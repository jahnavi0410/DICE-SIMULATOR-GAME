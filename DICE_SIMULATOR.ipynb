{
 "cells": [
  {
   "cell_type": "code",
   "execution_count": 4,
   "id": "0f9b0ce1-0788-4474-b670-2e4aa7682f81",
   "metadata": {},
   "outputs": [
    {
     "name": "stdin",
     "output_type": "stream",
     "text": [
      "Enter the number of sides on the dice:  6\n",
      "Do you want to use weighted probabilities? (yes/no):  yes\n",
      "Enter the weight for side 1:  6\n",
      "Enter the weight for side 2:  5\n",
      "Enter the weight for side 3:  4\n",
      "Enter the weight for side 4:  3\n",
      "Enter the weight for side 5:  2\n",
      "Enter the weight for side 6:  1\n"
     ]
    },
    {
     "name": "stdout",
     "output_type": "stream",
     "text": [
      "Welcome to the Dice Simulator Game! Rolling a 6-sided dice.\n"
     ]
    },
    {
     "name": "stdin",
     "output_type": "stream",
     "text": [
      "Press Enter to roll the dice or type 'exit' to quit:  \n"
     ]
    },
    {
     "name": "stdout",
     "output_type": "stream",
     "text": [
      "You rolled a 2! You gain 2 points.\n",
      "Your current score is: 2\n"
     ]
    },
    {
     "name": "stdin",
     "output_type": "stream",
     "text": [
      "Press Enter to roll the dice or type 'exit' to quit:  \n"
     ]
    },
    {
     "name": "stdout",
     "output_type": "stream",
     "text": [
      "You rolled a 2! You gain 2 points.\n",
      "Your current score is: 4\n"
     ]
    },
    {
     "name": "stdin",
     "output_type": "stream",
     "text": [
      "Press Enter to roll the dice or type 'exit' to quit:  \n"
     ]
    },
    {
     "name": "stdout",
     "output_type": "stream",
     "text": [
      "You rolled a 5! You gain 5 points.\n",
      "Your current score is: 9\n"
     ]
    },
    {
     "name": "stdin",
     "output_type": "stream",
     "text": [
      "Press Enter to roll the dice or type 'exit' to quit:  \n"
     ]
    },
    {
     "name": "stdout",
     "output_type": "stream",
     "text": [
      "You rolled a 2! You gain 2 points.\n",
      "Your current score is: 11\n"
     ]
    },
    {
     "name": "stdin",
     "output_type": "stream",
     "text": [
      "Press Enter to roll the dice or type 'exit' to quit:  \n"
     ]
    },
    {
     "name": "stdout",
     "output_type": "stream",
     "text": [
      "You rolled a 4! You gain 4 points.\n",
      "Your current score is: 15\n"
     ]
    },
    {
     "name": "stdin",
     "output_type": "stream",
     "text": [
      "Press Enter to roll the dice or type 'exit' to quit:  \n"
     ]
    },
    {
     "name": "stdout",
     "output_type": "stream",
     "text": [
      "You rolled a 1! You lose 1 point.\n",
      "Your current score is: 14\n"
     ]
    },
    {
     "name": "stdin",
     "output_type": "stream",
     "text": [
      "Press Enter to roll the dice or type 'exit' to quit:  \n"
     ]
    },
    {
     "name": "stdout",
     "output_type": "stream",
     "text": [
      "You rolled a 4! You gain 4 points.\n",
      "Your current score is: 18\n"
     ]
    },
    {
     "name": "stdin",
     "output_type": "stream",
     "text": [
      "Press Enter to roll the dice or type 'exit' to quit:  \n"
     ]
    },
    {
     "name": "stdout",
     "output_type": "stream",
     "text": [
      "You rolled a 1! You lose 1 point.\n",
      "Your current score is: 17\n"
     ]
    },
    {
     "name": "stdin",
     "output_type": "stream",
     "text": [
      "Press Enter to roll the dice or type 'exit' to quit:  \n"
     ]
    },
    {
     "name": "stdout",
     "output_type": "stream",
     "text": [
      "You rolled a 4! You gain 4 points.\n",
      "Your current score is: 21\n"
     ]
    },
    {
     "name": "stdin",
     "output_type": "stream",
     "text": [
      "Press Enter to roll the dice or type 'exit' to quit:  \n"
     ]
    },
    {
     "name": "stdout",
     "output_type": "stream",
     "text": [
      "You rolled a 3! You gain 3 points.\n",
      "Your current score is: 24\n",
      "You have reached the maximum number of rolls. Game over!\n",
      "Final Score: 24\n"
     ]
    }
   ],
   "source": [
    "import random\n",
    "\n",
    "class DiceSimulator:\n",
    "    def __init__(self, sides=6, weights=None):\n",
    "        self.sides = sides\n",
    "        self.weights = weights\n",
    "        if weights and len(weights) == sides:\n",
    "            self.dice_values = [i + 1 for i in range(sides)]\n",
    "        else:\n",
    "            self.dice_values = None\n",
    "        self.score = 0\n",
    "\n",
    "    def roll_dice(self):\n",
    "        if self.weights:\n",
    "            return random.choices(self.dice_values, weights=self.weights)[0]\n",
    "        else:\n",
    "            return random.randint(1, self.sides)\n",
    "\n",
    "    def apply_rules(self, roll):\n",
    "        if roll == 1:\n",
    "            self.score -= 1\n",
    "            print(\"You rolled a 1! You lose 1 point.\")\n",
    "        elif roll == 6:\n",
    "            self.score += 2\n",
    "            print(\"You rolled a 6! You gain 2 points.\")\n",
    "        else:\n",
    "            self.score += roll\n",
    "            print(f\"You rolled a {roll}! You gain {roll} points.\")\n",
    "\n",
    "    def run(self):\n",
    "        print(f\"Welcome to the Dice Simulator Game! Rolling a {self.sides}-sided dice.\")\n",
    "        rolls = 0\n",
    "        max_rolls = 10\n",
    "\n",
    "        while rolls < max_rolls:\n",
    "            user_input = input(\"Press Enter to roll the dice or type 'exit' to quit: \").strip().lower()\n",
    "            if user_input == 'exit':\n",
    "                print(\"Exiting the dice simulator. Goodbye!\")\n",
    "                break\n",
    "            else:\n",
    "                roll = self.roll_dice()\n",
    "                self.apply_rules(roll)\n",
    "                rolls += 1\n",
    "                print(f\"Your current score is: {self.score}\")\n",
    "                if rolls >= max_rolls:\n",
    "                    print(\"You have reached the maximum number of rolls. Game over!\")\n",
    "                    break\n",
    "\n",
    "        print(f\"Final Score: {self.score}\")\n",
    "\n",
    "def main():\n",
    "    sides = int(input(\"Enter the number of sides on the dice: \"))\n",
    "    use_weights = input(\"Do you want to use weighted probabilities? (yes/no): \").strip().lower()\n",
    "\n",
    "    if use_weights == 'yes':\n",
    "        weights = []\n",
    "        for i in range(sides):\n",
    "            weight = int(input(f\"Enter the weight for side {i + 1}: \"))\n",
    "            weights.append(weight)\n",
    "        simulator = DiceSimulator(sides, weights)\n",
    "    else:\n",
    "        simulator = DiceSimulator(sides)\n",
    "\n",
    "    simulator.run()\n",
    "\n",
    "if __name__ == \"__main__\":\n",
    "    main()\n"
   ]
  },
  {
   "cell_type": "code",
   "execution_count": null,
   "id": "9881ac71-6da9-47be-93df-99b91173a022",
   "metadata": {},
   "outputs": [],
   "source": []
  }
 ],
 "metadata": {
  "kernelspec": {
   "display_name": "Python 3 (ipykernel)",
   "language": "python",
   "name": "python3"
  },
  "language_info": {
   "codemirror_mode": {
    "name": "ipython",
    "version": 3
   },
   "file_extension": ".py",
   "mimetype": "text/x-python",
   "name": "python",
   "nbconvert_exporter": "python",
   "pygments_lexer": "ipython3",
   "version": "3.12.4"
  }
 },
 "nbformat": 4,
 "nbformat_minor": 5
}
